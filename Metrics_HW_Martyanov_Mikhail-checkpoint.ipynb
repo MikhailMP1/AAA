{
 "cells": [
  {
   "cell_type": "code",
   "execution_count": 19,
   "metadata": {},
   "outputs": [],
   "source": [
    "import pandas as pd \n",
    "import numpy as np\n",
    "import seaborn as sns\n",
    "from matplotlib import pyplot as plt"
   ]
  },
  {
   "cell_type": "markdown",
   "metadata": {},
   "source": [
    "#### Обычный блок считывания и небольшой обработки данных"
   ]
  },
  {
   "cell_type": "code",
   "execution_count": 20,
   "metadata": {},
   "outputs": [
    {
     "data": {
      "text/html": [
       "<div>\n",
       "<style scoped>\n",
       "    .dataframe tbody tr th:only-of-type {\n",
       "        vertical-align: middle;\n",
       "    }\n",
       "\n",
       "    .dataframe tbody tr th {\n",
       "        vertical-align: top;\n",
       "    }\n",
       "\n",
       "    .dataframe thead th {\n",
       "        text-align: right;\n",
       "    }\n",
       "</style>\n",
       "<table border=\"1\" class=\"dataframe\">\n",
       "  <thead>\n",
       "    <tr style=\"text-align: right;\">\n",
       "      <th></th>\n",
       "      <th>id</th>\n",
       "      <th>order_date</th>\n",
       "      <th>ship_mode</th>\n",
       "      <th>customer_id</th>\n",
       "      <th>sales</th>\n",
       "    </tr>\n",
       "  </thead>\n",
       "  <tbody>\n",
       "    <tr>\n",
       "      <th>0</th>\n",
       "      <td>100006</td>\n",
       "      <td>2014-09-07</td>\n",
       "      <td>Standard</td>\n",
       "      <td>DK-13375</td>\n",
       "      <td>377.970</td>\n",
       "    </tr>\n",
       "    <tr>\n",
       "      <th>1</th>\n",
       "      <td>100090</td>\n",
       "      <td>2014-07-08</td>\n",
       "      <td>Standard</td>\n",
       "      <td>EB-13705</td>\n",
       "      <td>699.192</td>\n",
       "    </tr>\n",
       "    <tr>\n",
       "      <th>2</th>\n",
       "      <td>100293</td>\n",
       "      <td>2014-03-14</td>\n",
       "      <td>Standard</td>\n",
       "      <td>NF-18475</td>\n",
       "      <td>91.056</td>\n",
       "    </tr>\n",
       "    <tr>\n",
       "      <th>3</th>\n",
       "      <td>100328</td>\n",
       "      <td>2014-01-28</td>\n",
       "      <td>Standard</td>\n",
       "      <td>JC-15340</td>\n",
       "      <td>3.928</td>\n",
       "    </tr>\n",
       "    <tr>\n",
       "      <th>4</th>\n",
       "      <td>100363</td>\n",
       "      <td>2014-04-08</td>\n",
       "      <td>Standard</td>\n",
       "      <td>JM-15655</td>\n",
       "      <td>21.376</td>\n",
       "    </tr>\n",
       "  </tbody>\n",
       "</table>\n",
       "</div>"
      ],
      "text/plain": [
       "       id  order_date ship_mode customer_id    sales\n",
       "0  100006  2014-09-07  Standard    DK-13375  377.970\n",
       "1  100090  2014-07-08  Standard    EB-13705  699.192\n",
       "2  100293  2014-03-14  Standard    NF-18475   91.056\n",
       "3  100328  2014-01-28  Standard    JC-15340    3.928\n",
       "4  100363  2014-04-08  Standard    JM-15655   21.376"
      ]
     },
     "execution_count": 20,
     "metadata": {},
     "output_type": "execute_result"
    }
   ],
   "source": [
    "cust =  pd.read_csv('customers.csv')\n",
    "orders = pd.read_csv('orders.csv')\n",
    "orders.head()"
   ]
  },
  {
   "cell_type": "code",
   "execution_count": 21,
   "metadata": {},
   "outputs": [
    {
     "data": {
      "text/html": [
       "<div>\n",
       "<style scoped>\n",
       "    .dataframe tbody tr th:only-of-type {\n",
       "        vertical-align: middle;\n",
       "    }\n",
       "\n",
       "    .dataframe tbody tr th {\n",
       "        vertical-align: top;\n",
       "    }\n",
       "\n",
       "    .dataframe thead th {\n",
       "        text-align: right;\n",
       "    }\n",
       "</style>\n",
       "<table border=\"1\" class=\"dataframe\">\n",
       "  <thead>\n",
       "    <tr style=\"text-align: right;\">\n",
       "      <th></th>\n",
       "      <th>id</th>\n",
       "      <th>name</th>\n",
       "      <th>segment</th>\n",
       "      <th>state</th>\n",
       "      <th>city</th>\n",
       "    </tr>\n",
       "  </thead>\n",
       "  <tbody>\n",
       "    <tr>\n",
       "      <th>0</th>\n",
       "      <td>CG-12520</td>\n",
       "      <td>Claire Gute</td>\n",
       "      <td>Consumer</td>\n",
       "      <td>Kentucky</td>\n",
       "      <td>Henderson</td>\n",
       "    </tr>\n",
       "    <tr>\n",
       "      <th>1</th>\n",
       "      <td>DV-13045</td>\n",
       "      <td>Darrin Van Huff</td>\n",
       "      <td>Corporate</td>\n",
       "      <td>California</td>\n",
       "      <td>Los Angeles</td>\n",
       "    </tr>\n",
       "    <tr>\n",
       "      <th>2</th>\n",
       "      <td>SO-20335</td>\n",
       "      <td>Sean O'Donnell</td>\n",
       "      <td>Consumer</td>\n",
       "      <td>Florida</td>\n",
       "      <td>Fort Lauderdale</td>\n",
       "    </tr>\n",
       "    <tr>\n",
       "      <th>3</th>\n",
       "      <td>BH-11710</td>\n",
       "      <td>Brosina Hoffman</td>\n",
       "      <td>Consumer</td>\n",
       "      <td>California</td>\n",
       "      <td>Los Angeles</td>\n",
       "    </tr>\n",
       "    <tr>\n",
       "      <th>4</th>\n",
       "      <td>AA-10480</td>\n",
       "      <td>Andrew Allen</td>\n",
       "      <td>Consumer</td>\n",
       "      <td>North Carolina</td>\n",
       "      <td>Concord</td>\n",
       "    </tr>\n",
       "  </tbody>\n",
       "</table>\n",
       "</div>"
      ],
      "text/plain": [
       "         id             name    segment           state             city\n",
       "0  CG-12520      Claire Gute   Consumer        Kentucky        Henderson\n",
       "1  DV-13045  Darrin Van Huff  Corporate      California      Los Angeles\n",
       "2  SO-20335   Sean O'Donnell   Consumer         Florida  Fort Lauderdale\n",
       "3  BH-11710  Brosina Hoffman   Consumer      California      Los Angeles\n",
       "4  AA-10480     Andrew Allen   Consumer  North Carolina          Concord"
      ]
     },
     "execution_count": 21,
     "metadata": {},
     "output_type": "execute_result"
    }
   ],
   "source": [
    "cust.head()"
   ]
  },
  {
   "cell_type": "code",
   "execution_count": 180,
   "metadata": {},
   "outputs": [
    {
     "data": {
      "text/plain": [
       "id             0\n",
       "order_date     0\n",
       "ship_mode      0\n",
       "customer_id    0\n",
       "sales          0\n",
       "name           0\n",
       "segment        0\n",
       "state          0\n",
       "city           0\n",
       "dtype: int64"
      ]
     },
     "execution_count": 180,
     "metadata": {},
     "output_type": "execute_result"
    }
   ],
   "source": [
    "# мерджим и проверяем на пропуски\n",
    "cust = cust.rename(columns={'id':'customer_id'})\n",
    "data = orders.merge(cust)\n",
    "data.isna().sum()"
   ]
  },
  {
   "cell_type": "code",
   "execution_count": 23,
   "metadata": {},
   "outputs": [
    {
     "data": {
      "text/html": [
       "<div>\n",
       "<style scoped>\n",
       "    .dataframe tbody tr th:only-of-type {\n",
       "        vertical-align: middle;\n",
       "    }\n",
       "\n",
       "    .dataframe tbody tr th {\n",
       "        vertical-align: top;\n",
       "    }\n",
       "\n",
       "    .dataframe thead th {\n",
       "        text-align: right;\n",
       "    }\n",
       "</style>\n",
       "<table border=\"1\" class=\"dataframe\">\n",
       "  <thead>\n",
       "    <tr style=\"text-align: right;\">\n",
       "      <th></th>\n",
       "      <th>id</th>\n",
       "      <th>order_date</th>\n",
       "      <th>ship_mode</th>\n",
       "      <th>customer_id</th>\n",
       "      <th>sales</th>\n",
       "      <th>name</th>\n",
       "      <th>segment</th>\n",
       "      <th>state</th>\n",
       "      <th>city</th>\n",
       "    </tr>\n",
       "  </thead>\n",
       "  <tbody>\n",
       "    <tr>\n",
       "      <th>0</th>\n",
       "      <td>100006</td>\n",
       "      <td>2014-09-07</td>\n",
       "      <td>Standard</td>\n",
       "      <td>DK-13375</td>\n",
       "      <td>377.970</td>\n",
       "      <td>Dennis Kane</td>\n",
       "      <td>Consumer</td>\n",
       "      <td>Ohio</td>\n",
       "      <td>Marion</td>\n",
       "    </tr>\n",
       "    <tr>\n",
       "      <th>1</th>\n",
       "      <td>131884</td>\n",
       "      <td>2015-12-06</td>\n",
       "      <td>Same Day</td>\n",
       "      <td>DK-13375</td>\n",
       "      <td>594.002</td>\n",
       "      <td>Dennis Kane</td>\n",
       "      <td>Consumer</td>\n",
       "      <td>Ohio</td>\n",
       "      <td>Marion</td>\n",
       "    </tr>\n",
       "    <tr>\n",
       "      <th>2</th>\n",
       "      <td>145065</td>\n",
       "      <td>2015-12-12</td>\n",
       "      <td>First</td>\n",
       "      <td>DK-13375</td>\n",
       "      <td>32.308</td>\n",
       "      <td>Dennis Kane</td>\n",
       "      <td>Consumer</td>\n",
       "      <td>Ohio</td>\n",
       "      <td>Marion</td>\n",
       "    </tr>\n",
       "    <tr>\n",
       "      <th>3</th>\n",
       "      <td>133046</td>\n",
       "      <td>2017-07-27</td>\n",
       "      <td>Second</td>\n",
       "      <td>DK-13375</td>\n",
       "      <td>297.990</td>\n",
       "      <td>Dennis Kane</td>\n",
       "      <td>Consumer</td>\n",
       "      <td>Ohio</td>\n",
       "      <td>Marion</td>\n",
       "    </tr>\n",
       "    <tr>\n",
       "      <th>4</th>\n",
       "      <td>165099</td>\n",
       "      <td>2017-12-11</td>\n",
       "      <td>First</td>\n",
       "      <td>DK-13375</td>\n",
       "      <td>1.392</td>\n",
       "      <td>Dennis Kane</td>\n",
       "      <td>Consumer</td>\n",
       "      <td>Ohio</td>\n",
       "      <td>Marion</td>\n",
       "    </tr>\n",
       "  </tbody>\n",
       "</table>\n",
       "</div>"
      ],
      "text/plain": [
       "       id  order_date ship_mode customer_id    sales         name   segment  \\\n",
       "0  100006  2014-09-07  Standard    DK-13375  377.970  Dennis Kane  Consumer   \n",
       "1  131884  2015-12-06  Same Day    DK-13375  594.002  Dennis Kane  Consumer   \n",
       "2  145065  2015-12-12     First    DK-13375   32.308  Dennis Kane  Consumer   \n",
       "3  133046  2017-07-27    Second    DK-13375  297.990  Dennis Kane  Consumer   \n",
       "4  165099  2017-12-11     First    DK-13375    1.392  Dennis Kane  Consumer   \n",
       "\n",
       "  state    city  \n",
       "0  Ohio  Marion  \n",
       "1  Ohio  Marion  \n",
       "2  Ohio  Marion  \n",
       "3  Ohio  Marion  \n",
       "4  Ohio  Marion  "
      ]
     },
     "execution_count": 23,
     "metadata": {},
     "output_type": "execute_result"
    }
   ],
   "source": [
    "data.head()"
   ]
  },
  {
   "cell_type": "code",
   "execution_count": 181,
   "metadata": {},
   "outputs": [
    {
     "data": {
      "text/html": [
       "<div>\n",
       "<style scoped>\n",
       "    .dataframe tbody tr th:only-of-type {\n",
       "        vertical-align: middle;\n",
       "    }\n",
       "\n",
       "    .dataframe tbody tr th {\n",
       "        vertical-align: top;\n",
       "    }\n",
       "\n",
       "    .dataframe thead th {\n",
       "        text-align: right;\n",
       "    }\n",
       "</style>\n",
       "<table border=\"1\" class=\"dataframe\">\n",
       "  <thead>\n",
       "    <tr style=\"text-align: right;\">\n",
       "      <th></th>\n",
       "      <th>id</th>\n",
       "      <th>order_date</th>\n",
       "      <th>ship_mode</th>\n",
       "      <th>customer_id</th>\n",
       "      <th>sales</th>\n",
       "      <th>name</th>\n",
       "      <th>segment</th>\n",
       "      <th>state</th>\n",
       "      <th>city</th>\n",
       "      <th>order_month</th>\n",
       "    </tr>\n",
       "  </thead>\n",
       "  <tbody>\n",
       "    <tr>\n",
       "      <th>0</th>\n",
       "      <td>100328</td>\n",
       "      <td>2014-01-28</td>\n",
       "      <td>Standard</td>\n",
       "      <td>JC-15340</td>\n",
       "      <td>3.928</td>\n",
       "      <td>Jasper Cacioppo</td>\n",
       "      <td>Consumer</td>\n",
       "      <td>California</td>\n",
       "      <td>Los Angeles</td>\n",
       "      <td>2014-01</td>\n",
       "    </tr>\n",
       "    <tr>\n",
       "      <th>1</th>\n",
       "      <td>103800</td>\n",
       "      <td>2014-01-03</td>\n",
       "      <td>Standard</td>\n",
       "      <td>DP-13000</td>\n",
       "      <td>16.448</td>\n",
       "      <td>Darren Powers</td>\n",
       "      <td>Consumer</td>\n",
       "      <td>Indiana</td>\n",
       "      <td>New Albany</td>\n",
       "      <td>2014-01</td>\n",
       "    </tr>\n",
       "    <tr>\n",
       "      <th>2</th>\n",
       "      <td>105417</td>\n",
       "      <td>2014-01-07</td>\n",
       "      <td>Standard</td>\n",
       "      <td>VS-21820</td>\n",
       "      <td>87.158</td>\n",
       "      <td>Vivek Sundaresam</td>\n",
       "      <td>Consumer</td>\n",
       "      <td>California</td>\n",
       "      <td>Los Angeles</td>\n",
       "      <td>2014-01</td>\n",
       "    </tr>\n",
       "    <tr>\n",
       "      <th>3</th>\n",
       "      <td>123477</td>\n",
       "      <td>2014-01-18</td>\n",
       "      <td>Second</td>\n",
       "      <td>DW-13195</td>\n",
       "      <td>64.864</td>\n",
       "      <td>David Wiener</td>\n",
       "      <td>Corporate</td>\n",
       "      <td>Texas</td>\n",
       "      <td>Houston</td>\n",
       "      <td>2014-01</td>\n",
       "    </tr>\n",
       "    <tr>\n",
       "      <th>4</th>\n",
       "      <td>167927</td>\n",
       "      <td>2014-01-20</td>\n",
       "      <td>Standard</td>\n",
       "      <td>XP-21865</td>\n",
       "      <td>708.616</td>\n",
       "      <td>Xylona Preis</td>\n",
       "      <td>Consumer</td>\n",
       "      <td>California</td>\n",
       "      <td>San Diego</td>\n",
       "      <td>2014-01</td>\n",
       "    </tr>\n",
       "  </tbody>\n",
       "</table>\n",
       "</div>"
      ],
      "text/plain": [
       "       id order_date ship_mode customer_id    sales              name  \\\n",
       "0  100328 2014-01-28  Standard    JC-15340    3.928   Jasper Cacioppo   \n",
       "1  103800 2014-01-03  Standard    DP-13000   16.448     Darren Powers   \n",
       "2  105417 2014-01-07  Standard    VS-21820   87.158  Vivek Sundaresam   \n",
       "3  123477 2014-01-18    Second    DW-13195   64.864      David Wiener   \n",
       "4  167927 2014-01-20  Standard    XP-21865  708.616      Xylona Preis   \n",
       "\n",
       "     segment       state         city order_month  \n",
       "0   Consumer  California  Los Angeles     2014-01  \n",
       "1   Consumer     Indiana   New Albany     2014-01  \n",
       "2   Consumer  California  Los Angeles     2014-01  \n",
       "3  Corporate       Texas      Houston     2014-01  \n",
       "4   Consumer  California    San Diego     2014-01  "
      ]
     },
     "execution_count": 181,
     "metadata": {},
     "output_type": "execute_result"
    }
   ],
   "source": [
    "# преобразуем формат даты и сортируем для небольшого удобства\n",
    "data['order_date'] = pd.to_datetime(data['order_date'],infer_datetime_format=True)\n",
    "data['order_month'] = data['order_date'].dt.strftime('%Y-%m')\n",
    "data_sort = data.sort_values('order_month').reset_index(drop = True)\n",
    "data_sort.head()"
   ]
  },
  {
   "cell_type": "markdown",
   "metadata": {},
   "source": [
    "#### a piece of pain:\n",
    "Дальше идут куски далеко не самого чиатемого кода с костылями, но основная идея заключается в аккуратной группировке по месяцам, а затем поиску числа уникальных клиентов по месяцам и накопленного числа уникальных клиентов со временем. С помощью них сильно проще найдутся число новичков, старичков, а следовательно и посчитается Retention rate.\n",
    "По результатам расчетов, они буду оформлены в аккуратный датафрейм, который предлагается проверяющему."
   ]
  },
  {
   "cell_type": "code",
   "execution_count": 133,
   "metadata": {},
   "outputs": [
    {
     "data": {
      "text/plain": [
       "[32, 27, 69, 64, 67, 63, 65, 70, 118, 75, 139, 134]"
      ]
     },
     "execution_count": 133,
     "metadata": {},
     "output_type": "execute_result"
    }
   ],
   "source": [
    "table = data_sort[['order_month','customer_id']].groupby('order_month').agg({'customer_id': ['count', 'nunique']})\n",
    "uniq_per_month = list(table['customer_id']['nunique'])\n",
    "uniq_per_month[:12]"
   ]
  },
  {
   "cell_type": "code",
   "execution_count": 138,
   "metadata": {},
   "outputs": [
    {
     "data": {
      "text/plain": [
       "[32, 56, 121, 177, 233, 281, 325, 374, 442, 484, 546, 595]"
      ]
     },
     "execution_count": 138,
     "metadata": {},
     "output_type": "execute_result"
    }
   ],
   "source": [
    "uniq_users ={-1:set(data_sort[['order_month','customer_id']].groupby('order_month').agg({'customer_id': ['unique']})['customer_id']['unique'][0])}\n",
    "\n",
    "for i in enumerate(data_sort[['order_month','customer_id']].groupby('order_month').agg({'customer_id': ['unique']})['customer_id']['unique']):\n",
    "    uniq_users[i[0]] = set(i[1]).union(uniq_users[i[0]-1])\n",
    "    \n",
    "del uniq_users[-1]\n",
    "\n",
    "uniq_acum_users = []\n",
    "\n",
    "for i in uniq_users.values():\n",
    "    uniq_acum_users.append(len(i))\n",
    "\n",
    "uniq_acum_users[:12]"
   ]
  },
  {
   "cell_type": "code",
   "execution_count": 140,
   "metadata": {},
   "outputs": [
    {
     "data": {
      "text/plain": [
       "[24, 65, 56, 56, 48, 44, 49, 68, 42, 62, 49, 7]"
      ]
     },
     "execution_count": 140,
     "metadata": {},
     "output_type": "execute_result"
    }
   ],
   "source": [
    "new_per_month = []\n",
    "for i in range(1,48):\n",
    "    new_per_month.append(uniq_acum_users[i]-uniq_acum_users[i-1])\n",
    "new_per_month[:12]"
   ]
  },
  {
   "cell_type": "code",
   "execution_count": 146,
   "metadata": {},
   "outputs": [
    {
     "data": {
      "text/plain": [
       "[3, 4, 8, 11, 15, 21, 21, 50, 33, 77, 85, 21]"
      ]
     },
     "execution_count": 146,
     "metadata": {},
     "output_type": "execute_result"
    }
   ],
   "source": [
    "retained_per_month = []\n",
    "\n",
    "for i in range(1,48):\n",
    "    retained_per_month.append(uniq_per_month[i]-new_per_month[i-1])\n",
    "retained_per_month[:12]"
   ]
  },
  {
   "cell_type": "code",
   "execution_count": 160,
   "metadata": {},
   "outputs": [
    {
     "data": {
      "text/plain": [
       "[9.38, 7.14, 6.61, 6.21, 6.44, 7.47, 6.46, 13.37, 7.47, 15.91, 15.57, 3.53]"
      ]
     },
     "execution_count": 160,
     "metadata": {},
     "output_type": "execute_result"
    }
   ],
   "source": [
    "retention = []\n",
    "for i in range(47):\n",
    "    retention.append(round(retained_per_month[i]*100/uniq_acum_users[i],2))\n",
    "retention[:12]"
   ]
  },
  {
   "cell_type": "markdown",
   "metadata": {},
   "source": [
    "#### Финальный аккуратный датафрейм со всеми данными"
   ]
  },
  {
   "cell_type": "code",
   "execution_count": 161,
   "metadata": {},
   "outputs": [
    {
     "data": {
      "text/html": [
       "<div>\n",
       "<style scoped>\n",
       "    .dataframe tbody tr th:only-of-type {\n",
       "        vertical-align: middle;\n",
       "    }\n",
       "\n",
       "    .dataframe tbody tr th {\n",
       "        vertical-align: top;\n",
       "    }\n",
       "\n",
       "    .dataframe thead th {\n",
       "        text-align: right;\n",
       "    }\n",
       "</style>\n",
       "<table border=\"1\" class=\"dataframe\">\n",
       "  <thead>\n",
       "    <tr style=\"text-align: right;\">\n",
       "      <th></th>\n",
       "      <th>month</th>\n",
       "      <th>retained_users</th>\n",
       "      <th>new_users</th>\n",
       "      <th>retention</th>\n",
       "      <th>total_users_in_month</th>\n",
       "    </tr>\n",
       "  </thead>\n",
       "  <tbody>\n",
       "    <tr>\n",
       "      <th>0</th>\n",
       "      <td>2014-02</td>\n",
       "      <td>3</td>\n",
       "      <td>24</td>\n",
       "      <td>9.38</td>\n",
       "      <td>27</td>\n",
       "    </tr>\n",
       "    <tr>\n",
       "      <th>1</th>\n",
       "      <td>2014-03</td>\n",
       "      <td>4</td>\n",
       "      <td>65</td>\n",
       "      <td>7.14</td>\n",
       "      <td>69</td>\n",
       "    </tr>\n",
       "    <tr>\n",
       "      <th>2</th>\n",
       "      <td>2014-04</td>\n",
       "      <td>8</td>\n",
       "      <td>56</td>\n",
       "      <td>6.61</td>\n",
       "      <td>64</td>\n",
       "    </tr>\n",
       "    <tr>\n",
       "      <th>3</th>\n",
       "      <td>2014-05</td>\n",
       "      <td>11</td>\n",
       "      <td>56</td>\n",
       "      <td>6.21</td>\n",
       "      <td>67</td>\n",
       "    </tr>\n",
       "    <tr>\n",
       "      <th>4</th>\n",
       "      <td>2014-06</td>\n",
       "      <td>15</td>\n",
       "      <td>48</td>\n",
       "      <td>6.44</td>\n",
       "      <td>63</td>\n",
       "    </tr>\n",
       "  </tbody>\n",
       "</table>\n",
       "</div>"
      ],
      "text/plain": [
       "     month  retained_users  new_users  retention  total_users_in_month\n",
       "0  2014-02               3         24       9.38                    27\n",
       "1  2014-03               4         65       7.14                    69\n",
       "2  2014-04               8         56       6.61                    64\n",
       "3  2014-05              11         56       6.21                    67\n",
       "4  2014-06              15         48       6.44                    63"
      ]
     },
     "execution_count": 161,
     "metadata": {},
     "output_type": "execute_result"
    }
   ],
   "source": [
    "Data = pd.DataFrame({'month':list(rep.keys()), 'retained_users':retained_per_month,'new_users':new_per_month,\n",
    "                     'retention':retention, 'total_users_in_month':uniq_per_month[1:]})\n",
    "Data.head()"
   ]
  },
  {
   "cell_type": "markdown",
   "metadata": {},
   "source": [
    "#### Смотрим разницу в Retention за последние два года:"
   ]
  },
  {
   "cell_type": "code",
   "execution_count": 179,
   "metadata": {},
   "outputs": [
    {
     "data": {
      "text/plain": [
       "array([ True,  True,  True,  True,  True,  True,  True,  True,  True,\n",
       "        True,  True,  True])"
      ]
     },
     "execution_count": 179,
     "metadata": {},
     "output_type": "execute_result"
    }
   ],
   "source": [
    "difference_in_retention = np.array(retention[35:])-np.array(retention[23:35])\n",
    "difference_in_retention > 0"
   ]
  },
  {
   "cell_type": "markdown",
   "metadata": {},
   "source": [
    "### Строим графики"
   ]
  },
  {
   "cell_type": "code",
   "execution_count": 163,
   "metadata": {},
   "outputs": [
    {
     "data": {
      "image/png": "[encoded data removed]",
      "text/plain": [
       "<Figure size 936x504 with 1 Axes>"
      ]
     },
     "metadata": {
      "needs_background": "light"
     },
     "output_type": "display_data"
    }
   ],
   "source": [
    "plt.figure(figsize=(13, 7))\n",
    "plt.plot(Data[\"month\"], Data['retention'])\n",
    "plt.title(\"Retention rate per month\", fontsize=22)\n",
    "plt.grid(alpha=0.5)\n",
    "plt.xticks(Data[\"month\"],rotation = 90,fontsize = 10)\n",
    "plt.show()"
   ]
  },
  {
   "cell_type": "code",
   "execution_count": 164,
   "metadata": {},
   "outputs": [
    {
     "data": {
      "image/png": "[encoded data removed]",
      "text/plain": [
       "<Figure size 936x504 with 1 Axes>"
      ]
     },
     "metadata": {
      "needs_background": "light"
     },
     "output_type": "display_data"
    }
   ],
   "source": [
    "plt.figure(figsize=(13, 7))\n",
    "plt.plot(Data[\"month\"], Data['total_users_in_month'])\n",
    "plt.title(\"Number of total users per month\", fontsize=22)\n",
    "plt.grid(alpha=0.5)\n",
    "plt.xticks(Data[\"month\"],rotation = 90,fontsize = 10)\n",
    "plt.show()"
   ]
  },
  {
   "cell_type": "code",
   "execution_count": 165,
   "metadata": {},
   "outputs": [
    {
     "data": {
      "image/png": "[encoded data removed]",
      "text/plain": [
       "<Figure size 936x504 with 1 Axes>"
      ]
     },
     "metadata": {
      "needs_background": "light"
     },
     "output_type": "display_data"
    }
   ],
   "source": [
    "plt.figure(figsize=(13, 7))\n",
    "plt.plot(Data[\"month\"], Data['new_users'])\n",
    "plt.xticks(Data[\"month\"],rotation = 90,fontsize = 10)\n",
    "plt.title(\"Number of new users per month\", fontsize=22)\n",
    "plt.grid(alpha=0.5)\n",
    "plt.show()"
   ]
  },
  {
   "cell_type": "markdown",
   "metadata": {},
   "source": [
    "### Визуальные выводы"
   ]
  },
  {
   "cell_type": "markdown",
   "metadata": {},
   "source": [
    "Судя по представленным данным, в течение четырех лет Retention rate проявляет себя цикличным образом:спад в начале года, потом стабилизация и рост в последний квартал (за исключением ноября). При этом, наблюдается незначительная тенденция роста из года в год данного показателя. Сравнивая последние два года, видим, что в каждом из месяцев процент вернувшихся вырос. Никаких видимых признаков, что отток увеличился - нет: гипотеза не подтверждается.\n",
    "\n",
    "Общее число пользователей на сайте в месяц также растет, что обусловлено в большей степени увеличением числа вернувшихся клиентов, так как приток новых покупателей с каждым месяцем сходит на нет. Это может быть большой проблемой для интернет-магазина, ибо в случае возможной потери лояльности клиентской базы грозит банкротство. Возможными решениями данной проблемы могут являться: проведение рекламной кампании; раздача бонусов для новых покупателей (в виде скидки/кэшбека/бесплатной доставки); либо поиск стимулов для приглашения новых пользователей сложившейся аудиторией (реферральные ссылки, скидки на доставку за добавление друзей, денежные зачисления и т.д.) \n"
   ]
  }
 ],
 "metadata": {
  "kernelspec": {
   "display_name": "Python 3",
   "language": "python",
   "name": "python3"
  },
  "language_info": {
   "codemirror_mode": {
    "name": "ipython",
    "version": 3
   },
   "file_extension": ".py",
   "mimetype": "text/x-python",
   "name": "python",
   "nbconvert_exporter": "python",
   "pygments_lexer": "ipython3",
   "version": "3.8.3"
  }
 },
 "nbformat": 4,
 "nbformat_minor": 4
}
